{
  "nbformat": 4,
  "nbformat_minor": 0,
  "metadata": {
    "colab": {
      "cell_execution_strategy": "setup",
      "provenance": [],
      "name": "task2"
    },
    "kernelspec": {
      "name": "python3",
      "display_name": "Python 3"
    },
    "language_info": {
      "name": "python"
    }
  },
  "cells": [
    {
      "cell_type": "markdown",
      "source": [
        "## Initialize Environment"
      ],
      "metadata": {
        "id": "Ge_ZoYKBZ5MC"
      }
    },
    {
      "cell_type": "markdown",
      "source": [
        "**IMPORTANT: In the cell below, you must enter your Google Cloud Project ID for the current lab. This value is crucial for accessing all resources within your lab environment. This is the first cell you should run in this notebook.**\n",
        "\n"
      ],
      "metadata": {
        "id": "p920QR2pqFHi"
      }
    },
    {
      "cell_type": "code",
      "source": [
        "# User: Please enter your Project ID in this cell.\n",
        "PROJECT_ID = 'your-gcp-project-id' # <-- ENTER YOUR ACTUAL PROJECT ID HERE!\n",
        "\n",
        "# Verify that PROJECT_ID is not empty. If it is, raise an error.\n",
        "if not PROJECT_ID:\n",
        "    raise ValueError(\"ERROR: PROJECT_ID is not set. Please enter your Project ID above.\")\n",
        "\n",
        "print(f\"Project ID set to: {PROJECT_ID}\")"
      ],
      "metadata": {
        "id": "qieTeFLeqDFN"
      },
      "execution_count": null,
      "outputs": []
    },
    {
      "cell_type": "markdown",
      "source": [
        "Now, run this cell to initialize the environment for Task 2. This will import necessary libraries, initialize the BigQuery client, and define key variables (like table IDs) that will be used in Task 2."
      ],
      "metadata": {
        "id": "P4QrZWPHqHR7"
      }
    },
    {
      "cell_type": "code",
      "source": [
        "# Imports necessary libraries for Task 2 and initializes the client and variables.\n",
        "# pandas_gbq is imported to use the updated to_gbq function.\n",
        "from google.cloud import bigquery\n",
        "import pandas as pd\n",
        "import pandas_gbq\n",
        "from IPython.display import display\n",
        "\n",
        "# Ensure PROJECT_ID has been defined in the cell above.\n",
        "# You must run the 'Set Your Project ID' cell above before running this one.\n",
        "if 'PROJECT_ID' not in locals() or not PROJECT_ID:\n",
        "    raise ValueError(\"ERROR: PROJECT_ID is not set. Please run the 'Set Your Project ID' cell above first.\")\n",
        "\n",
        "client = bigquery.Client(project=PROJECT_ID, location=\"us-central1\") # Explicitly pass project argument here\n",
        "\n",
        "DATASET_ID = 'cymbal'\n",
        "\n",
        "TABLE_ID_CUSTOMERS = f\"{PROJECT_ID}.{DATASET_ID}.customers\"\n",
        "table_id_multimodal_reviews = f\"{PROJECT_ID}.{DATASET_ID}.multimodal_customer_reviews\"\n",
        "GEMINI_MODEL_NAME = f'{PROJECT_ID}.{DATASET_ID}.gemini_flash_model'\n",
        "table_id_segment_level_analysis = f\"{PROJECT_ID}.{DATASET_ID}.segment_level_gemini_analysis\"\n",
        "\n",
        "print(f\"BigQuery Client Initialized for Project ID: {PROJECT_ID}\")\n",
        "\n",
        "def run_bq_query(sql: str, client: bigquery.Client):\n",
        "    try:\n",
        "        query_job = client.query(sql)\n",
        "        print(f\"Job {query_job.job_id} in state {query_job.state}\")\n",
        "        if query_job.statement_type == 'SELECT':\n",
        "            df = query_job.to_dataframe()\n",
        "            print(f\"Query complete. Fetched {len(df)} rows.\")\n",
        "            return df\n",
        "        else:\n",
        "            query_job.result()\n",
        "            print(f\"Query for statement type {query_job.statement_type} complete.\")\n",
        "            return None\n",
        "    except Exception as e:\n",
        "        print(f\"An error occurred: {e}\")\n",
        "        return None"
      ],
      "metadata": {
        "id": "npJfVsVLQb0U"
      },
      "execution_count": null,
      "outputs": []
    },
    {
      "cell_type": "markdown",
      "source": [
        "## Identify Customer Demographics Table"
      ],
      "metadata": {
        "id": "lVSkUbQNaXYQ"
      }
    },
    {
      "cell_type": "code",
      "source": [
        "%%bigquery\n",
        "SELECT customer_id, first_name, age, gender, loyalty_member FROM `cymbal.customers` LIMIT 5"
      ],
      "metadata": {
        "id": "iWnvzDveaI9p"
      },
      "execution_count": null,
      "outputs": []
    },
    {
      "cell_type": "markdown",
      "source": [
        "## Identify Persona Profiles\n",
        "### This query identifies the unique combinations of customer attributes to be used as persona profiles."
      ],
      "metadata": {
        "id": "u2m_dZwMaihn"
      }
    },
    {
      "cell_type": "code",
      "source": [
        "# Note: We parse the sentiment from the JSON string for this logic.\n",
        "sql_get_profiles = f\"\"\"\n",
        "WITH EnrichedData AS (\n",
        "    SELECT\n",
        "        c.customer_id,\n",
        "        JSON_EXTRACT_SCALAR(mcr.sentiment_json_string, '$.sentiment') as text_sentiment,\n",
        "        CASE\n",
        "            WHEN c.age < 40 THEN 'Younger_Adult'\n",
        "            ELSE 'Older_Adult'\n",
        "        END AS age_group,\n",
        "        UPPER(c.gender) as gender,\n",
        "        IF(c.loyalty_member, 'LOYAL', 'NON_LOYAL') as loyalty_status\n",
        "    FROM `{table_id_multimodal_reviews}` AS mcr\n",
        "    JOIN `{TABLE_ID_CUSTOMERS}` AS c ON mcr.customer_id = c.customer_id\n",
        "    WHERE c.age IS NOT NULL AND c.gender IS NOT NULL AND c.loyalty_member IS NOT NULL\n",
        ")\n",
        "SELECT DISTINCT\n",
        "    CONCAT(age_group, '_', gender, '_', loyalty_status) as persona_age_group_profile\n",
        "FROM EnrichedData\n",
        "ORDER BY 1;\n",
        "\"\"\"\n",
        "print(f\"Identifying unique segment profiles for Gemini analysis...\")\n",
        "df_profiles = run_bq_query(sql_get_profiles, client)\n",
        "if df_profiles is not None:\n",
        "    display(df_profiles)"
      ],
      "metadata": {
        "id": "N-0_n3EhQfmw"
      },
      "execution_count": null,
      "outputs": []
    },
    {
      "cell_type": "markdown",
      "source": [
        "## Generate Detailed Personas with Gemini\n",
        "### The Gemini prompt is designed to generate a complete persona analysis in a single call"
      ],
      "metadata": {
        "id": "BrDgj52vbOmb"
      }
    },
    {
      "cell_type": "code",
      "source": [
        "# The prompt string is also properly escaped for SQL to prevent syntax errors.\n",
        "gemini_prompt_template = \"\"\"\n",
        "Based on the customer segment profile \"{p}\", generate a single, valid JSON object.\n",
        "The JSON MUST contain these keys:\n",
        "\"persona_description\" (a concise, one-sentence summary of this persona),\n",
        "\"summary\" (a more detailed summary of their likely preferences),\n",
        "\"motivations\" (what drives their purchasing decisions),\n",
        "\"needs\" (what they look for in a product or service),\n",
        "\"marketing_pitch\" (a short marketing pitch targeting them).\n",
        "Ensure the entire output is ONLY this single JSON object.\n",
        "\"\"\"\n",
        "\n",
        "all_results = []\n",
        "if df_profiles is not None:\n",
        "    print(f\"Starting Gemini analysis for {len(df_profiles)} profiles...\")\n",
        "    for _, row in df_profiles.iterrows():\n",
        "        profile = row['persona_age_group_profile']\n",
        "\n",
        "        # Format the prompt with the profile name\n",
        "        raw_prompt = gemini_prompt_template.format(p=profile)\n",
        "\n",
        "        # Make the prompt string safe for embedding in a SQL query by escaping quotes and newlines.\n",
        "        prompt_for_sql = raw_prompt.replace(\"'\", \"''\").replace(\"\\n\", \" \")\n",
        "\n",
        "        sql = f\"\"\"SELECT '{profile}' as profile, ml_generate_text_llm_result AS analysis FROM ML.GENERATE_TEXT(MODEL `{GEMINI_MODEL_NAME}`,\n",
        "            (SELECT '{prompt_for_sql}' AS prompt), STRUCT(0.5 AS temperature, 1024 as max_output_tokens, TRUE AS flatten_json_output))\"\"\"\n",
        "\n",
        "        print(f\"  Analyzing profile: '{profile}'...\")\n",
        "        result_df = run_bq_query(sql, client)\n",
        "        if result_df is not None:\n",
        "            all_results.append(result_df)\n",
        "\n",
        "    if all_results:\n",
        "        df_all_analysis = pd.concat(all_results, ignore_index=True)\n",
        "        print(f\"\\nSaving {len(df_all_analysis)} analyses to '{table_id_segment_level_analysis}'...\")\n",
        "        # Use the recommended pandas_gbq library to write to BigQuery\n",
        "        pandas_gbq.to_gbq(df_all_analysis, table_id_segment_level_analysis, project_id=PROJECT_ID, if_exists='replace')\n",
        "        print(\"Successfully saved results.\")"
      ],
      "metadata": {
        "id": "sAH86ylOQiQA"
      },
      "execution_count": null,
      "outputs": []
    },
    {
      "cell_type": "markdown",
      "source": [
        "## Verify the Generated Persona Analysis Table\n",
        "### Verifies the raw Gemini analysis table by displaying its content."
      ],
      "metadata": {
        "id": "DSXG9ArZbkAS"
      }
    },
    {
      "cell_type": "code",
      "source": [
        "# This allows us to inspect the 'analysis' column before parsing it.\n",
        "print(f\"\\n--- Verifying Raw Gemini Output in: {table_id_segment_level_analysis} ---\")\n",
        "df_raw_analysis = run_bq_query(f\"SELECT * FROM `{table_id_segment_level_analysis}` LIMIT 5\", client)\n",
        "if df_raw_analysis is not None:\n",
        "    with pd.option_context('display.max_colwidth', None):\n",
        "        display(df_raw_analysis)"
      ],
      "metadata": {
        "id": "TOsOX6GhQjgY"
      },
      "execution_count": null,
      "outputs": []
    },
    {
      "cell_type": "markdown",
      "source": [
        "## Create Final Insights and Persona Tables"
      ],
      "metadata": {
        "id": "4_f1E4csczVe"
      }
    },
    {
      "cell_type": "code",
      "source": [
        "# This query combines all data sources into a single, comprehensive table for final analysis.\n",
        "table_id_final_customer_insights = f\"{PROJECT_ID}.{DATASET_ID}.final_customer_insights\"\n",
        "sql_create_final_table = f\"\"\"\n",
        "CREATE OR REPLACE TABLE `{table_id_final_customer_insights}` AS\n",
        "WITH EnrichedData AS (\n",
        "    SELECT mcr.*, c.first_name, c.last_name, c.age, c.gender, c.loyalty_member,\n",
        "        CONCAT(\n",
        "            CASE WHEN c.age < 40 THEN 'Younger_Adult' ELSE 'Older_Adult' END, '_',\n",
        "            UPPER(c.gender), IF(c.loyalty_member, '_LOYAL', '_NON_LOYAL')\n",
        "        ) AS persona_age_group_profile\n",
        "    FROM `{table_id_multimodal_reviews}` AS mcr\n",
        "    JOIN `{TABLE_ID_CUSTOMERS}` AS c ON mcr.customer_id = c.customer_id\n",
        ")\n",
        "SELECT enriched.*, persona.analysis AS gemini_persona_analysis\n",
        "FROM EnrichedData enriched\n",
        "LEFT JOIN `{table_id_segment_level_analysis}` persona ON enriched.persona_age_group_profile = persona.profile;\n",
        "\"\"\"\n",
        "print(f\"Creating the final customer insights table '{table_id_final_customer_insights}'...\")\n",
        "run_bq_query(sql_create_final_table, client)\n",
        "\n",
        "\n",
        "# This query now creates the persona definitions table by robustly parsing the description\n",
        "# from the JSON generated by Gemini, cleaning it first to handle any markdown.\n",
        "final_persona_table_id = f\"{PROJECT_ID}.{DATASET_ID}.customer_persona_definitions\"\n",
        "sql_create_personas = f\"\"\"\n",
        "CREATE OR REPLACE TABLE `{final_persona_table_id}` AS\n",
        "WITH cleaned_analysis AS (\n",
        "  SELECT\n",
        "    profile,\n",
        "    -- Clean the JSON string by removing markdown backticks and whitespace\n",
        "    TRIM(REGEXP_REPLACE(analysis, r'(?i)(^```json\\\\s*|\\\\s*```$)', '')) as cleaned_json\n",
        "  FROM\n",
        "    `{table_id_segment_level_analysis}`\n",
        ")\n",
        "SELECT\n",
        "    profile AS persona_age_group_profile,\n",
        "    JSON_EXTRACT_SCALAR(cleaned_json, '$.persona_description') AS persona_segment_description\n",
        "FROM\n",
        "    cleaned_analysis\n",
        "WHERE\n",
        "    JSON_EXTRACT_SCALAR(cleaned_json, '$.persona_description') IS NOT NULL;\n",
        "\"\"\"\n",
        "print(f\"\\nCreating final persona definitions table from Gemini output: {final_persona_table_id}...\")\n",
        "run_bq_query(sql_create_personas, client)\n",
        "\n",
        "print(f\"\\n--- Final Customer Persona Definitions (Generated by Gemini) ---\")\n",
        "df_personas = run_bq_query(f\"SELECT * FROM `{final_persona_table_id}` ORDER BY 1\", client)\n",
        "if df_personas is not None:\n",
        "    with pd.option_context('display.max_colwidth', None):\n",
        "        display(df_personas)"
      ],
      "metadata": {
        "id": "SwUiw_kqQktu"
      },
      "execution_count": null,
      "outputs": []
    }
  ]
}